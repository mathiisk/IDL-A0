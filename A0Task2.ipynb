{
 "cells": [
  {
   "cell_type": "code",
   "execution_count": 1,
   "id": "9b9fada4",
   "metadata": {},
   "outputs": [],
   "source": [
    "import numpy as np\n",
    "import pandas as pd\n",
    "import matplotlib.pyplot as plt"
   ]
  },
  {
   "cell_type": "code",
   "execution_count": 3,
   "id": "f937a43a",
   "metadata": {},
   "outputs": [
    {
     "name": "stdout",
     "output_type": "stream",
     "text": [
      "Train shape: (1707, 256) (1707,)\n",
      "Test shape: (1000, 256) (1000,)\n"
     ]
    }
   ],
   "source": [
    "X_train = pd.read_csv('Data/train_in.csv', header=None).values\n",
    "y_train = pd.read_csv('Data/train_out.csv', header=None).values.flatten()\n",
    "X_test = pd.read_csv('Data/test_in.csv', header=None).values\n",
    "y_test = pd.read_csv('Data/test_out.csv', header=None).values.flatten()\n",
    "print(\"Train shape:\", X_train.shape, y_train.shape)\n",
    "print(\"Test shape:\", X_test.shape, y_test.shape)"
   ]
  },
  {
   "cell_type": "code",
   "execution_count": 4,
   "id": "0faed6fa",
   "metadata": {},
   "outputs": [
    {
     "name": "stdout",
     "output_type": "stream",
     "text": [
      "Train with bias shape: (1707, 257)\n",
      "Test with bias shape: (1000, 257)\n"
     ]
    }
   ],
   "source": [
    "X_train_bias = np.hstack([X_train, np.ones((X_train.shape[0], 1))])\n",
    "X_test_bias = np.hstack([X_test, np.ones((X_test.shape[0], 1))])\n",
    "print(\"Train with bias shape:\", X_train_bias.shape)\n",
    "print(\"Test with bias shape:\", X_test_bias.shape)"
   ]
  },
  {
   "cell_type": "code",
   "execution_count": 13,
   "id": "3b49ba8e",
   "metadata": {},
   "outputs": [],
   "source": [
    "num_features = X_train_bias.shape[1]\n",
    "num_classes = 10"
   ]
  },
  {
   "cell_type": "code",
   "execution_count": 6,
   "id": "e81f3cae",
   "metadata": {},
   "outputs": [],
   "source": [
    "def predict(X, W):\n",
    "    scores = X @ W\n",
    "    return np.argmax(scores, axis=1)\n",
    "\n",
    "def accuracy(y_true, y_pred):\n",
    "    return np.mean(y_true == y_pred)"
   ]
  },
  {
   "cell_type": "code",
   "execution_count": 14,
   "id": "3dab5a4c",
   "metadata": {},
   "outputs": [
    {
     "name": "stdout",
     "output_type": "stream",
     "text": [
      "Epoch 1: Train Acc=0.8946, Test Acc=0.8200\n",
      "Epoch 2: Train Acc=0.9520, Test Acc=0.8660\n",
      "Epoch 3: Train Acc=0.9309, Test Acc=0.8370\n",
      "Epoch 4: Train Acc=0.9397, Test Acc=0.8590\n",
      "Epoch 5: Train Acc=0.9549, Test Acc=0.8510\n",
      "Epoch 6: Train Acc=0.9631, Test Acc=0.8560\n",
      "Epoch 7: Train Acc=0.9520, Test Acc=0.8470\n",
      "Epoch 8: Train Acc=0.9402, Test Acc=0.8340\n",
      "Epoch 9: Train Acc=0.9707, Test Acc=0.8580\n",
      "Epoch 10: Train Acc=0.9649, Test Acc=0.8510\n",
      "Epoch 11: Train Acc=0.9660, Test Acc=0.8560\n",
      "Epoch 12: Train Acc=0.9818, Test Acc=0.8710\n",
      "Epoch 13: Train Acc=0.9637, Test Acc=0.8510\n",
      "Epoch 14: Train Acc=0.9777, Test Acc=0.8570\n",
      "Epoch 15: Train Acc=0.9848, Test Acc=0.8660\n",
      "Epoch 16: Train Acc=0.9965, Test Acc=0.8740\n",
      "Epoch 17: Train Acc=0.9813, Test Acc=0.8640\n",
      "Epoch 18: Train Acc=0.9602, Test Acc=0.8410\n",
      "Epoch 19: Train Acc=0.9824, Test Acc=0.8630\n",
      "Epoch 20: Train Acc=0.9906, Test Acc=0.8700\n",
      "Epoch 21: Train Acc=0.9660, Test Acc=0.8500\n",
      "Epoch 22: Train Acc=0.9830, Test Acc=0.8700\n",
      "Epoch 23: Train Acc=0.9900, Test Acc=0.8700\n",
      "Epoch 24: Train Acc=0.9836, Test Acc=0.8560\n",
      "Epoch 25: Train Acc=0.9971, Test Acc=0.8710\n",
      "Epoch 26: Train Acc=0.9895, Test Acc=0.8670\n",
      "Epoch 27: Train Acc=0.9865, Test Acc=0.8730\n",
      "Epoch 28: Train Acc=0.9941, Test Acc=0.8720\n",
      "Epoch 29: Train Acc=0.9994, Test Acc=0.8810\n",
      "Epoch 30: Train Acc=0.9877, Test Acc=0.8630\n",
      "Epoch 31: Train Acc=0.9924, Test Acc=0.8830\n",
      "Epoch 32: Train Acc=0.9994, Test Acc=0.8860\n",
      "Epoch 33: Train Acc=0.9865, Test Acc=0.8760\n",
      "Epoch 34: Train Acc=0.9936, Test Acc=0.8730\n",
      "Epoch 35: Train Acc=0.9994, Test Acc=0.8790\n",
      "Epoch 36: Train Acc=0.9953, Test Acc=0.8680\n",
      "Epoch 37: Train Acc=0.9988, Test Acc=0.8750\n",
      "Epoch 38: Train Acc=1.0000, Test Acc=0.8720\n",
      "Epoch 39: Train Acc=1.0000, Test Acc=0.8720\n",
      "Epoch 40: Train Acc=1.0000, Test Acc=0.8720\n",
      "Epoch 41: Train Acc=1.0000, Test Acc=0.8720\n",
      "Epoch 42: Train Acc=1.0000, Test Acc=0.8720\n",
      "Epoch 43: Train Acc=1.0000, Test Acc=0.8720\n",
      "Epoch 44: Train Acc=1.0000, Test Acc=0.8720\n",
      "Epoch 45: Train Acc=1.0000, Test Acc=0.8720\n",
      "Epoch 46: Train Acc=1.0000, Test Acc=0.8720\n",
      "Epoch 47: Train Acc=1.0000, Test Acc=0.8720\n",
      "Epoch 48: Train Acc=1.0000, Test Acc=0.8720\n",
      "Epoch 49: Train Acc=1.0000, Test Acc=0.8720\n",
      "Epoch 50: Train Acc=1.0000, Test Acc=0.8720\n",
      "Epoch 51: Train Acc=1.0000, Test Acc=0.8720\n",
      "Epoch 52: Train Acc=1.0000, Test Acc=0.8720\n",
      "Epoch 53: Train Acc=1.0000, Test Acc=0.8720\n",
      "Epoch 54: Train Acc=1.0000, Test Acc=0.8720\n",
      "Epoch 55: Train Acc=1.0000, Test Acc=0.8720\n",
      "Epoch 56: Train Acc=1.0000, Test Acc=0.8720\n",
      "Epoch 57: Train Acc=1.0000, Test Acc=0.8720\n",
      "Epoch 58: Train Acc=1.0000, Test Acc=0.8720\n",
      "Epoch 59: Train Acc=1.0000, Test Acc=0.8720\n",
      "Epoch 60: Train Acc=1.0000, Test Acc=0.8720\n",
      "Epoch 61: Train Acc=1.0000, Test Acc=0.8720\n",
      "Epoch 62: Train Acc=1.0000, Test Acc=0.8720\n",
      "Epoch 63: Train Acc=1.0000, Test Acc=0.8720\n",
      "Epoch 64: Train Acc=1.0000, Test Acc=0.8720\n",
      "Epoch 65: Train Acc=1.0000, Test Acc=0.8720\n",
      "Epoch 66: Train Acc=1.0000, Test Acc=0.8720\n",
      "Epoch 67: Train Acc=1.0000, Test Acc=0.8720\n",
      "Epoch 68: Train Acc=1.0000, Test Acc=0.8720\n",
      "Epoch 69: Train Acc=1.0000, Test Acc=0.8720\n",
      "Epoch 70: Train Acc=1.0000, Test Acc=0.8720\n",
      "Epoch 71: Train Acc=1.0000, Test Acc=0.8720\n",
      "Epoch 72: Train Acc=1.0000, Test Acc=0.8720\n",
      "Epoch 73: Train Acc=1.0000, Test Acc=0.8720\n",
      "Epoch 74: Train Acc=1.0000, Test Acc=0.8720\n",
      "Epoch 75: Train Acc=1.0000, Test Acc=0.8720\n",
      "Epoch 76: Train Acc=1.0000, Test Acc=0.8720\n",
      "Epoch 77: Train Acc=1.0000, Test Acc=0.8720\n",
      "Epoch 78: Train Acc=1.0000, Test Acc=0.8720\n",
      "Epoch 79: Train Acc=1.0000, Test Acc=0.8720\n",
      "Epoch 80: Train Acc=1.0000, Test Acc=0.8720\n",
      "Epoch 81: Train Acc=1.0000, Test Acc=0.8720\n",
      "Epoch 82: Train Acc=1.0000, Test Acc=0.8720\n",
      "Epoch 83: Train Acc=1.0000, Test Acc=0.8720\n",
      "Epoch 84: Train Acc=1.0000, Test Acc=0.8720\n",
      "Epoch 85: Train Acc=1.0000, Test Acc=0.8720\n",
      "Epoch 86: Train Acc=1.0000, Test Acc=0.8720\n",
      "Epoch 87: Train Acc=1.0000, Test Acc=0.8720\n",
      "Epoch 88: Train Acc=1.0000, Test Acc=0.8720\n",
      "Epoch 89: Train Acc=1.0000, Test Acc=0.8720\n",
      "Epoch 90: Train Acc=1.0000, Test Acc=0.8720\n",
      "Epoch 91: Train Acc=1.0000, Test Acc=0.8720\n",
      "Epoch 92: Train Acc=1.0000, Test Acc=0.8720\n",
      "Epoch 93: Train Acc=1.0000, Test Acc=0.8720\n",
      "Epoch 94: Train Acc=1.0000, Test Acc=0.8720\n",
      "Epoch 95: Train Acc=1.0000, Test Acc=0.8720\n",
      "Epoch 96: Train Acc=1.0000, Test Acc=0.8720\n",
      "Epoch 97: Train Acc=1.0000, Test Acc=0.8720\n",
      "Epoch 98: Train Acc=1.0000, Test Acc=0.8720\n",
      "Epoch 99: Train Acc=1.0000, Test Acc=0.8720\n",
      "Epoch 100: Train Acc=1.0000, Test Acc=0.8720\n"
     ]
    }
   ],
   "source": [
    "np.random.seed(123)\n",
    "W = np.random.randn(num_features, num_classes) * 0.01\n",
    "\n",
    "epochs = 100\n",
    "lr = 0.01\n",
    "train_acc = []\n",
    "test_acc = []\n",
    "\n",
    "for epoch in range(epochs):\n",
    "    for i in range(X_train_bias.shape[0]):\n",
    "        xi = X_train_bias[i]\n",
    "        yi = y_train[i]\n",
    "        scores = xi @ W\n",
    "        pred = np.argmax(scores)\n",
    "        if pred != yi:\n",
    "            W[:, yi] += lr * xi\n",
    "            W[:, pred] -= lr * xi\n",
    "    \n",
    "    train_pred = predict(X_train_bias, W)\n",
    "    test_pred = predict(X_test_bias, W)\n",
    "    train_acc.append(accuracy(y_train, train_pred))\n",
    "    test_acc.append(accuracy(y_test, test_pred))\n",
    "    print(f\"Epoch {epoch+1}: Train Acc={train_acc[-1]:.4f}, Test Acc={test_acc[-1]:.4f}\")"
   ]
  }
 ],
 "metadata": {
  "kernelspec": {
   "display_name": "Python 3",
   "language": "python",
   "name": "python3"
  },
  "language_info": {
   "codemirror_mode": {
    "name": "ipython",
    "version": 3
   },
   "file_extension": ".py",
   "mimetype": "text/x-python",
   "name": "python",
   "nbconvert_exporter": "python",
   "pygments_lexer": "ipython3",
   "version": "3.12.0"
  }
 },
 "nbformat": 4,
 "nbformat_minor": 5
}
